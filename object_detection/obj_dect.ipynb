{
 "cells": [
  {
   "cell_type": "markdown",
   "metadata": {},
   "source": [
    "# Object detection\n"
   ]
  },
  {
   "cell_type": "code",
   "execution_count": 6,
   "metadata": {},
   "outputs": [],
   "source": [
    "import google.generativeai as genai\n",
    "from rich.console import Console\n",
    "import httpx\n",
    "import base64\n",
    "import os"
   ]
  },
  {
   "cell_type": "code",
   "execution_count": 3,
   "metadata": {},
   "outputs": [
    {
     "name": "stdout",
     "output_type": "stream",
     "text": [
      "That's a photograph of a high-elevation alpine landscape, likely in the Sierra Nevada mountains of California.  The image shows:\n",
      "\n",
      "* **A still, reflective pool or pond:**  The water reflects the surrounding mountains and sky.\n",
      "* **Alpine meadows:**  Low-growing vegetation covers much of the foreground.\n",
      "* **Rugged mountains:**  Prominent, jagged peaks are visible in the background, some with snow.  One peak is particularly distinct and pointed.\n",
      "* **A dramatic sky:**  The sky shows a beautiful sunset or sunrise with pinkish and purplish hues in the clouds.\n",
      "\n",
      "The overall impression is one of serene beauty and wild, untouched nature.  While I can't pinpoint the exact location without more information, the characteristics strongly suggest a location in the Sierra Nevada range.\n",
      "\n"
     ]
    }
   ],
   "source": [
    "console = Console()\n",
    "\n",
    "\n",
    "def obj_dec(prompt: str) -> None:\n",
    "    try:\n",
    "        API_KEY = 'API_KEY'\n",
    "        genai.configure(api_key=API_KEY)\n",
    "        image_url = 'https://th.bing.com/th/id/OIP.GPFEY6kfgxbsja6gmrW6rwHaE7?w=257&h=180&c=7&r=0&o=5&dpr=1.3&pid=1.7'\n",
    "        image_get = httpx.get(image_url)\n",
    "        model = genai.GenerativeModel('gemini-1.5-flash')\n",
    "        response = model.generate_content(\n",
    "            [{'mime_type': 'image/jpeg', 'data': base64.b64encode(image_get.content).decode('utf-8')}, prompt])\n",
    "        print(response.text)\n",
    "    except Exception as e:\n",
    "        print(f\"An error occurred: {e}\")\n",
    "\n",
    "\n",
    "obj_dec('What image is this?')"
   ]
  },
  {
   "cell_type": "code",
   "execution_count": 8,
   "metadata": {},
   "outputs": [
    {
     "data": {
      "text/html": [
       "<pre style=\"white-space:pre;overflow-x:auto;line-height:normal;font-family:Menlo,'DejaVu Sans Mono',consolas,'Courier New',monospace\">That's a still life photograph.  It's a carefully arranged composition featuring a variety of objects, primarily in\n",
       "shades of pink, white, and beige.  The objects include:\n",
       "\n",
       "* **Stacked boxes and books:**  These appear to be decorative boxes and possibly books, exhibiting a range of sizes\n",
       "and subtle color variations.\n",
       "* **Sculptural elements:** A small statue <span style=\"font-weight: bold\">(</span>possibly of a praying figure<span style=\"font-weight: bold\">)</span>, and various pieces of stone or rock \n",
       "formations add textural interest and a sense of weight.\n",
       "* **Other objects:**  There are smaller, less defined objects present, such as what looks like a broken piece of \n",
       "pottery or a shell, and what might be small decorative anchors or keys.\n",
       "\n",
       "The overall aesthetic is minimalist and elegant, with a focus on form, texture, and subtle color contrasts. The \n",
       "dark background emphasizes the objects and their arrangement.  The image likely aims to evoke a sense of quiet \n",
       "contemplation or artistic reflection.\n",
       "\n",
       "</pre>\n"
      ],
      "text/plain": [
       "That's a still life photograph.  It's a carefully arranged composition featuring a variety of objects, primarily in\n",
       "shades of pink, white, and beige.  The objects include:\n",
       "\n",
       "* **Stacked boxes and books:**  These appear to be decorative boxes and possibly books, exhibiting a range of sizes\n",
       "and subtle color variations.\n",
       "* **Sculptural elements:** A small statue \u001b[1m(\u001b[0mpossibly of a praying figure\u001b[1m)\u001b[0m, and various pieces of stone or rock \n",
       "formations add textural interest and a sense of weight.\n",
       "* **Other objects:**  There are smaller, less defined objects present, such as what looks like a broken piece of \n",
       "pottery or a shell, and what might be small decorative anchors or keys.\n",
       "\n",
       "The overall aesthetic is minimalist and elegant, with a focus on form, texture, and subtle color contrasts. The \n",
       "dark background emphasizes the objects and their arrangement.  The image likely aims to evoke a sense of quiet \n",
       "contemplation or artistic reflection.\n",
       "\n"
      ]
     },
     "metadata": {},
     "output_type": "display_data"
    }
   ],
   "source": [
    "def obj_dec_2(prompt: str) -> None:\n",
    "    try:\n",
    "        API_KEY = 'API_KEY'\n",
    "        genai.configure(api_key=API_KEY)\n",
    "        image_path = 'C:\\\\Users\\\\1973r\\\\OneDrive\\\\Desktop\\\\Python\\\\google gemini prompt-e\\\\object_detection\\\\obj.jpg'\n",
    "        if os.path.exists(image_path):\n",
    "            img_upload = genai.upload_file(image_path)\n",
    "            model = genai.GenerativeModel('gemini-1.5-flash')\n",
    "            response = model.generate_content([img_upload, prompt])\n",
    "            console.print(response.text)\n",
    "        else:\n",
    "            raise FileNotFoundError('File not found ;-;')\n",
    "\n",
    "    except Exception as e:\n",
    "        console.print(f'An error occurred: {e}')\n",
    "\n",
    "\n",
    "obj_dec_2('What image is this?')"
   ]
  }
 ],
 "metadata": {
  "kernelspec": {
   "display_name": "Python 3",
   "language": "python",
   "name": "python3"
  },
  "language_info": {
   "codemirror_mode": {
    "name": "ipython",
    "version": 3
   },
   "file_extension": ".py",
   "mimetype": "text/x-python",
   "name": "python",
   "nbconvert_exporter": "python",
   "pygments_lexer": "ipython3",
   "version": "3.12.4"
  }
 },
 "nbformat": 4,
 "nbformat_minor": 2
}
