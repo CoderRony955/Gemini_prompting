{
 "cells": [
  {
   "cell_type": "markdown",
   "metadata": {},
   "source": [
    "# Python code generation\n"
   ]
  },
  {
   "cell_type": "code",
   "execution_count": null,
   "metadata": {},
   "outputs": [],
   "source": [
    "import google.generativeai as genai\n",
    "import logging\n",
    "\n",
    "\n",
    "def function(prompt: str) -> None:\n",
    "    try:\n",
    "        API_KEY = 'API_KEY'\n",
    "        genai.configure(api_key=API_KEY)\n",
    "        model = genai.GenerativeModel('gemini-1.5-flash')\n",
    "        response = model.generate_content(prompt)\n",
    "        with open('py_program.py', 'w') as f:\n",
    "            f.write(response.text)\n",
    "\n",
    "            if response.text:\n",
    "                print('Response generated and saved to py_program.py')\n",
    "            else:\n",
    "                print(\"No response generated.\")\n",
    "\n",
    "    except Exception as e:\n",
    "        logging.error(f\"An error occurred: {e}\")\n",
    "\n",
    "\n",
    "function('Now act as a professional programmer and write a python program for in which firstly take a input from the user and convert the user input given text to \\\"Binary presentation\\\" and use a rich python module for better output appearance.\\nNote: write a code in full python code format avoid markdown format to give response')"
   ]
  },
  {
   "cell_type": "markdown",
   "metadata": {},
   "source": [
    "# C code generation\n"
   ]
  },
  {
   "cell_type": "code",
   "execution_count": 1,
   "metadata": {},
   "outputs": [
    {
     "name": "stderr",
     "output_type": "stream",
     "text": [
      "c:\\Users\\1973r\\AppData\\Local\\Programs\\Python\\Python312\\Lib\\site-packages\\tqdm\\auto.py:21: TqdmWarning: IProgress not found. Please update jupyter and ipywidgets. See https://ipywidgets.readthedocs.io/en/stable/user_install.html\n",
      "  from .autonotebook import tqdm as notebook_tqdm\n"
     ]
    },
    {
     "name": "stdout",
     "output_type": "stream",
     "text": [
      "3050\n",
      "Response generated and saved to C_program.c\n"
     ]
    }
   ],
   "source": [
    "import google.generativeai as genai\n",
    "from doless import fileop\n",
    "import logging\n",
    "\n",
    "\n",
    "def function(prompt: str) -> None:\n",
    "    try:\n",
    "        API_KEY = 'API_KEY'\n",
    "        genai.configure(api_key=API_KEY)\n",
    "        mdoel = genai.GenerativeModel('gemini-1.5-flash')\n",
    "        response = mdoel.generate_content(prompt)\n",
    "        file = fileop('C_program.c')\n",
    "        file.writefile(response.text)\n",
    "\n",
    "        if response.text:\n",
    "            print('Response generated and saved to C_program.c')\n",
    "        else:\n",
    "            print(\"No response generated.\")\n",
    "\n",
    "    except Exception as e:\n",
    "        logging.error(f\"An error occurred: {e}\")\n",
    "\n",
    "\n",
    "function('Write a C program for a calculator and use a C lib for better output appearance. Note: write a code in full C code format avoid markdown format to give response and the main point is the code is look like a professional program')"
   ]
  },
  {
   "cell_type": "markdown",
   "metadata": {},
   "source": [
    "# web landing page code generation"
   ]
  },
  {
   "cell_type": "code",
   "execution_count": 6,
   "metadata": {},
   "outputs": [
    {
     "data": {
      "text/html": [
       "<pre style=\"white-space:pre;overflow-x:auto;line-height:normal;font-family:Menlo,'DejaVu Sans Mono',consolas,'Courier New',monospace\"><span style=\"color: #000080; text-decoration-color: #000080\">Response generated and saved to index_one_point_five_flash.html</span>\n",
       "</pre>\n"
      ],
      "text/plain": [
       "\u001b[34mResponse generated and saved to index_one_point_five_flash.html\u001b[0m\n"
      ]
     },
     "metadata": {},
     "output_type": "display_data"
    }
   ],
   "source": [
    "import google.generativeai as genai\n",
    "from rich.console import Console\n",
    "from rich.traceback import install \n",
    "import logging\n",
    "\n",
    "console = Console()\n",
    "install()\n",
    "\n",
    "def function(prompt: str) -> None:\n",
    "    try:\n",
    "        API_KEY = 'API_KEY'\n",
    "        genai.configure(api_key=API_KEY)\n",
    "        model = genai.GenerativeModel('gemini-1.5-flash')\n",
    "        response = model.generate_content(prompt)\n",
    "        with open('index_one_point_five_flashindex_one_point_five_flash.html', 'w') as f:\n",
    "            f.write(response.text)\n",
    "\n",
    "            if response.text:\n",
    "                console.print('[blue]Response generated and saved to index_one_point_five_flash.html[/blue]')\n",
    "            else:\n",
    "                console.prit('[red]No response generated.[/red]')\n",
    "    except Exception as e:\n",
    "        logging.error(f\"An error occurred: {e}\")\n",
    "\n",
    "function('Hey, I want a responsive website for my business purpose which look like this: \\nHave a navbar including business logo at left side and have a \\'Home\\', \\'Services\\', \\'About us\\' \\'Contact\\' links at right right of the navbar and note that thing navbar must be a sticky and responsive have a hamburger menu in moblie veiw and when we open hamburger in mobile view then all links has shown. And have a hero section with image background and on the hero sectin have a button with a hover transition effect with box shadow blue colored and the button must be in center and upper side of button has a heading \\'Welcome to our business page\\' and after the hero section have blogs section where the total 5 blogs each blog have a image and a heading, paragraph with button and button must have cool hover effect with thte box shadow colored yellow and each have it\\'s own position such that first have a image at right side and paragraph and heading at left side second blog have image at left side and head, paragraph at right side just like that. And after have call to action section with heading and have a background colored white with round shape with 34 percent of opacity and have a button button with hover effect and after that have a footer section with business logo at the left side of the footer and have a all links of the navbar have.\\nNote: write a code in html and tailwind css all heading and paragraphs has cool fonts which looks very attractive ')"
   ]
  }
 ],
 "metadata": {
  "kernelspec": {
   "display_name": "Python 3",
   "language": "python",
   "name": "python3"
  },
  "language_info": {
   "codemirror_mode": {
    "name": "ipython",
    "version": 3
   },
   "file_extension": ".py",
   "mimetype": "text/x-python",
   "name": "python",
   "nbconvert_exporter": "python",
   "pygments_lexer": "ipython3",
   "version": "3.12.4"
  }
 },
 "nbformat": 4,
 "nbformat_minor": 2
}
